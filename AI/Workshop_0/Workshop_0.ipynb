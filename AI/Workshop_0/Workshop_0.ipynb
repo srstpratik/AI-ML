{
  "nbformat": 4,
  "nbformat_minor": 0,
  "metadata": {
    "colab": {
      "provenance": []
    },
    "kernelspec": {
      "name": "python3",
      "display_name": "Python 3"
    },
    "language_info": {
      "name": "python"
    }
  },
  "cells": [
    {
      "cell_type": "code",
      "execution_count": 5,
      "metadata": {
        "colab": {
          "base_uri": "https://localhost:8080/"
        },
        "id": "GRQ95fqFsXH1",
        "outputId": "4e692390-e698-44b2-b73a-53f441775c80"
      },
      "outputs": [
        {
          "output_type": "stream",
          "name": "stdout",
          "text": [
            "Select conversion type:\n",
            "1. Length (m <-> ft)\n",
            "2. Weight (kg <-> lbs)\n",
            "3. Volume (L <-> gal)\n",
            "Enter 1, 2, or 3: 2\n",
            "Convert from (kg/lbs): kg\n",
            "Enter the value to convert: 2\n",
            "Converted value: 4.4092 lbs\n"
          ]
        }
      ],
      "source": [
        "def convert_units(value, from_unit, to_unit):\n",
        "    conversions = {\n",
        "        \"m_to_ft\": 3.28084,\n",
        "        \"ft_to_m\": 1 / 3.28084,\n",
        "        \"kg_to_lbs\": 2.20462,\n",
        "        \"lbs_to_kg\": 1 / 2.20462,\n",
        "        \"L_to_gal\": 0.264172,\n",
        "        \"gal_to_L\": 1 / 0.264172\n",
        "    }\n",
        "\n",
        "    key = f\"{from_unit}_to_{to_unit}\"\n",
        "\n",
        "    if key in conversions:\n",
        "        return value * conversions[key]\n",
        "    else:\n",
        "        raise ValueError(\"Unsupported conversion\")\n",
        "\n",
        "def main():\n",
        "    try:\n",
        "        print(\"Select conversion type:\")\n",
        "        print(\"1. Length (m <-> ft)\")\n",
        "        print(\"2. Weight (kg <-> lbs)\")\n",
        "        print(\"3. Volume (L <-> gal)\")\n",
        "\n",
        "        choice = input(\"Enter 1, 2, or 3: \").strip()\n",
        "\n",
        "        if choice == \"1\":\n",
        "            from_unit = input(\"Convert from (m/ft): \").strip().lower()\n",
        "            to_unit = \"ft\" if from_unit == \"m\" else \"m\"\n",
        "        elif choice == \"2\":\n",
        "            from_unit = input(\"Convert from (kg/lbs): \").strip().lower()\n",
        "            to_unit = \"lbs\" if from_unit == \"kg\" else \"kg\"\n",
        "        elif choice == \"3\":\n",
        "            from_unit = input(\"Convert from (L/gal): \").strip().lower()\n",
        "            to_unit = \"gal\" if from_unit == \"L\" else \"L\"\n",
        "        else:\n",
        "            print(\"Invalid choice!\")\n",
        "            return\n",
        "\n",
        "        value = float(input(\"Enter the value to convert: \"))\n",
        "        result = convert_units(value, from_unit, to_unit)\n",
        "        print(f\"Converted value: {result:.4f} {to_unit}\")\n",
        "\n",
        "    except ValueError as e:\n",
        "        print(f\"Error: {e}\")\n",
        "    except Exception:\n",
        "        print(\"An unexpected error occurred. Please try again.\")\n",
        "\n",
        "if __name__ == \"__main__\":\n",
        "    main()"
      ]
    },
    {
      "cell_type": "code",
      "source": [
        "def calculate_sum(numbers):\n",
        "    \"\"\"\n",
        "    Calculate the sum of a list of numbers.\n",
        "\n",
        "    Parameters:\n",
        "    numbers (list of float): The list of numbers.\n",
        "\n",
        "    Returns:\n",
        "    float: The sum of the numbers.\n",
        "    \"\"\"\n",
        "    return sum(numbers)\n",
        "\n",
        "def calculate_average(numbers):\n",
        "    \"\"\"\n",
        "    Calculate the average of a list of numbers.\n",
        "\n",
        "    Parameters:\n",
        "    numbers (list of float): The list of numbers.\n",
        "\n",
        "    Returns:\n",
        "    float: The average of the numbers.\n",
        "    \"\"\"\n",
        "    if not numbers:\n",
        "        raise ValueError(\"Cannot calculate average of an empty list.\")\n",
        "    return sum(numbers) / len(numbers)\n",
        "\n",
        "def find_maximum(numbers):\n",
        "    \"\"\"\n",
        "    Find the maximum number in a list.\n",
        "\n",
        "    Parameters:\n",
        "    numbers (list of float): The list of numbers.\n",
        "\n",
        "    Returns:\n",
        "    float: The maximum number.\n",
        "    \"\"\"\n",
        "    return max(numbers)\n",
        "\n",
        "def find_minimum(numbers):\n",
        "    \"\"\"\n",
        "    Find the minimum number in a list.\n",
        "\n",
        "    Parameters:\n",
        "    numbers (list of float): The list of numbers.\n",
        "\n",
        "    Returns:\n",
        "    float: The minimum number.\n",
        "    \"\"\"\n",
        "    return min(numbers)\n",
        "\n",
        "def main():\n",
        "    try:\n",
        "        print(\"Select an operation:\")\n",
        "        print(\"1. Sum\")\n",
        "        print(\"2. Average\")\n",
        "        print(\"3. Maximum\")\n",
        "        print(\"4. Minimum\")\n",
        "\n",
        "        choice = input(\"Enter 1, 2, 3, or 4: \").strip()\n",
        "        operation_map = {\"1\": calculate_sum, \"2\": calculate_average, \"3\": find_maximum, \"4\": find_minimum}\n",
        "\n",
        "        if choice not in operation_map:\n",
        "            print(\"Invalid choice!\")\n",
        "            return\n",
        "\n",
        "        numbers_input = input(\"Enter a list of numbers separated by spaces: \").strip()\n",
        "        numbers = [float(num) for num in numbers_input.split()]\n",
        "\n",
        "        if not numbers:\n",
        "            print(\"Error: No numbers entered.\")\n",
        "            return\n",
        "\n",
        "        result = operation_map[choice](numbers)\n",
        "        print(f\"Result: {result:.4f}\")\n",
        "\n",
        "    except ValueError as e:\n",
        "        print(f\"Error: {e}\")\n",
        "    except Exception:\n",
        "        print(\"An unexpected error occurred. Please try again.\")\n",
        "\n",
        "if __name__ == \"__main__\":\n",
        "    main()"
      ],
      "metadata": {
        "colab": {
          "base_uri": "https://localhost:8080/"
        },
        "id": "y_KkuKgnsrOk",
        "outputId": "5033b06e-3468-4fa0-a499-813922c3c584"
      },
      "execution_count": 6,
      "outputs": [
        {
          "output_type": "stream",
          "name": "stdout",
          "text": [
            "Select an operation:\n",
            "1. Sum\n",
            "2. Average\n",
            "3. Maximum\n",
            "4. Minimum\n",
            "Enter 1, 2, 3, or 4: 4\n",
            "Enter a list of numbers separated by spaces: 2\n",
            "Result: 2.0000\n"
          ]
        }
      ]
    },
    {
      "cell_type": "code",
      "source": [
        "def extract_every_other(lst):\n",
        "\n",
        "    return lst[::2]\n",
        "\n",
        "lst = [1, 2, 3, 4, 5, 6]\n",
        "print(\"Every other element:\", extract_every_other(lst))"
      ],
      "metadata": {
        "colab": {
          "base_uri": "https://localhost:8080/"
        },
        "id": "Gg-PNiEDs3lq",
        "outputId": "fae7e56d-c9b9-429b-da88-073a4209a43c"
      },
      "execution_count": null,
      "outputs": [
        {
          "output_type": "stream",
          "name": "stdout",
          "text": [
            "Every other element: [1, 3, 5]\n"
          ]
        }
      ]
    },
    {
      "cell_type": "code",
      "source": [
        "def get_sublist(lst, start, end):\n",
        "    return lst[start:end+1]\n",
        "\n",
        "# Example usage:\n",
        "print(\"Sublist (2 to 4):\", get_sublist(lst, 2, 4))"
      ],
      "metadata": {
        "colab": {
          "base_uri": "https://localhost:8080/"
        },
        "id": "KeWKBkxSs7oD",
        "outputId": "7c33a837-bdb4-460c-cdda-b7ff2a71f14c"
      },
      "execution_count": null,
      "outputs": [
        {
          "output_type": "stream",
          "name": "stdout",
          "text": [
            "Sublist (2 to 4): [3, 4, 5]\n"
          ]
        }
      ]
    },
    {
      "cell_type": "code",
      "source": [
        "def reverse_list(lst):\n",
        "\n",
        "    return lst[::-1]\n",
        "\n",
        "# Example usage:\n",
        "print(\"Reversed list:\", reverse_list(lst))"
      ],
      "metadata": {
        "colab": {
          "base_uri": "https://localhost:8080/"
        },
        "id": "tCt1Zfkss-94",
        "outputId": "cc72950c-539a-4ed2-e4ab-504771c741d8"
      },
      "execution_count": null,
      "outputs": [
        {
          "output_type": "stream",
          "name": "stdout",
          "text": [
            "Reversed list: [6, 5, 4, 3, 2, 1]\n"
          ]
        }
      ]
    },
    {
      "cell_type": "code",
      "source": [
        "def remove_first_last(lst):\n",
        "\n",
        "    return lst[1:-1]\n",
        "\n",
        "# Example usage:\n",
        "print(\"Removed first and last:\", remove_first_last(lst))"
      ],
      "metadata": {
        "colab": {
          "base_uri": "https://localhost:8080/"
        },
        "id": "df8ciOQvtCld",
        "outputId": "62eee504-97b9-47bd-8239-9855c8230a35"
      },
      "execution_count": null,
      "outputs": [
        {
          "output_type": "stream",
          "name": "stdout",
          "text": [
            "Removed first and last: [2, 3, 4, 5]\n"
          ]
        }
      ]
    },
    {
      "cell_type": "code",
      "source": [
        "def get_first_n(lst, n):\n",
        "\n",
        "    return lst[:n]\n",
        "\n",
        "# Example usage:\n",
        "print(\"First 3 elements:\", get_first_n(lst, 3))"
      ],
      "metadata": {
        "colab": {
          "base_uri": "https://localhost:8080/"
        },
        "id": "z0lWOBPVtIWz",
        "outputId": "093d9fa0-1eab-4d89-96fc-5d893b123b02"
      },
      "execution_count": null,
      "outputs": [
        {
          "output_type": "stream",
          "name": "stdout",
          "text": [
            "First 3 elements: [1, 2, 3]\n"
          ]
        }
      ]
    },
    {
      "cell_type": "code",
      "source": [
        "def get_last_n(lst, n):\n",
        "    return lst[-n:]\n",
        "\n",
        "lst = [1, 2, 3, 4, 5]\n",
        "n = 2\n",
        "print(get_last_n(lst, n))"
      ],
      "metadata": {
        "colab": {
          "base_uri": "https://localhost:8080/"
        },
        "id": "VEbgqKXvtJv4",
        "outputId": "3538f0f7-4b23-4af6-9817-49ee844683fa"
      },
      "execution_count": null,
      "outputs": [
        {
          "output_type": "stream",
          "name": "stdout",
          "text": [
            "[4, 5]\n"
          ]
        }
      ]
    },
    {
      "cell_type": "code",
      "source": [
        "def reverse_skip(lst):\n",
        "    return lst[-2::-2]\n",
        "\n",
        "# Example usage:\n",
        "lst = [1, 2, 3, 4, 5, 6]\n",
        "print(reverse_skip(lst))"
      ],
      "metadata": {
        "colab": {
          "base_uri": "https://localhost:8080/"
        },
        "id": "cxEyYLi5tM8p",
        "outputId": "bb61f92b-9b63-4594-cc44-d0b7f25a770e"
      },
      "execution_count": null,
      "outputs": [
        {
          "output_type": "stream",
          "name": "stdout",
          "text": [
            "[5, 3, 1]\n"
          ]
        }
      ]
    },
    {
      "cell_type": "code",
      "source": [
        "def flatten(lst):\n",
        "    result = []\n",
        "    for item in lst:\n",
        "        if isinstance(item, list):\n",
        "            result.extend(flatten(item))\n",
        "        else:\n",
        "            result.append(item)\n",
        "    return result\n",
        "\n",
        "print(flatten([[1, 2], [3, 4], [5]]))"
      ],
      "metadata": {
        "colab": {
          "base_uri": "https://localhost:8080/"
        },
        "id": "VWIy9Ta1tjz1",
        "outputId": "5bb3ef73-a2e4-4a39-8ff4-527d38715c6d"
      },
      "execution_count": null,
      "outputs": [
        {
          "output_type": "stream",
          "name": "stdout",
          "text": [
            "[1, 2, 3, 4, 5]\n"
          ]
        }
      ]
    },
    {
      "cell_type": "code",
      "source": [
        "def access_nested_element(lst, indices):\n",
        "    for index in indices:\n",
        "        lst = lst[index]\n",
        "    return lst\n",
        "\n",
        "lst = [[1, 2, 3], [4, 5, 6], [7, 8, 9]]\n",
        "indices = [1, 2]\n",
        "print(access_nested_element(lst, indices))"
      ],
      "metadata": {
        "colab": {
          "base_uri": "https://localhost:8080/"
        },
        "id": "Uk-objwGtmmj",
        "outputId": "f3aeae66-d588-4460-d90b-2a627b968f7b"
      },
      "execution_count": null,
      "outputs": [
        {
          "output_type": "stream",
          "name": "stdout",
          "text": [
            "6\n"
          ]
        }
      ]
    },
    {
      "cell_type": "code",
      "source": [
        "def sum_nested(lst):\n",
        "    total = 0\n",
        "    for item in lst:\n",
        "        if isinstance(item, list):\n",
        "            total += sum_nested(item)\n",
        "        else:\n",
        "            total += item\n",
        "    return total\n",
        "\n",
        "print(sum_nested([[1, 2], [3, [4, 5]], 6]))"
      ],
      "metadata": {
        "colab": {
          "base_uri": "https://localhost:8080/"
        },
        "id": "WYgHI7-EtrFk",
        "outputId": "e304c0c8-56ba-48ac-e019-63382ffcb50b"
      },
      "execution_count": null,
      "outputs": [
        {
          "output_type": "stream",
          "name": "stdout",
          "text": [
            "21\n"
          ]
        }
      ]
    },
    {
      "cell_type": "code",
      "source": [
        "def remove_element(lst, elem):\n",
        "    if isinstance(lst, list):\n",
        "        return [remove_element(item, elem) for item in lst if item != elem]\n",
        "    return lst\n",
        "\n",
        "lst = [[1, 2], [3, 2], [4, 5]]\n",
        "elem = 2\n",
        "print(remove_element(lst, elem))"
      ],
      "metadata": {
        "colab": {
          "base_uri": "https://localhost:8080/"
        },
        "id": "UUT0vNXntr-p",
        "outputId": "53ff782c-38c2-4600-8087-1c490ced91f9"
      },
      "execution_count": null,
      "outputs": [
        {
          "output_type": "stream",
          "name": "stdout",
          "text": [
            "[[1], [3], [4, 5]]\n"
          ]
        }
      ]
    },
    {
      "cell_type": "code",
      "source": [
        "def find_max(lst):\n",
        "    max_val = float('-inf')\n",
        "    for item in lst:\n",
        "        if isinstance(item, list):\n",
        "            max_val = max(max_val, find_max(item))\n",
        "        else:\n",
        "            max_val = max(max_val, item)\n",
        "    return max_val\n",
        "\n",
        "print(find_max([[1, 2], [3, [4, 5]], 6]))"
      ],
      "metadata": {
        "colab": {
          "base_uri": "https://localhost:8080/"
        },
        "id": "4b8IjWMGtwPp",
        "outputId": "bcee59ea-6728-4457-9067-48dd1d8ebb24"
      },
      "execution_count": null,
      "outputs": [
        {
          "output_type": "stream",
          "name": "stdout",
          "text": [
            "6\n"
          ]
        }
      ]
    },
    {
      "cell_type": "code",
      "source": [
        "def count_occurrences(lst, elem):\n",
        "    count = 0\n",
        "    for item in lst:\n",
        "        if isinstance(item, list):\n",
        "            count += count_occurrences(item, elem)\n",
        "        elif item == elem:\n",
        "            count += 1\n",
        "    return count\n",
        "\n",
        "lst = [[1, 2], [2, 3], [2, 4]]\n",
        "elem = 2\n",
        "print(count_occurrences(lst, elem))"
      ],
      "metadata": {
        "colab": {
          "base_uri": "https://localhost:8080/"
        },
        "id": "uZriR-eFt0-N",
        "outputId": "0f8b3f98-0113-4c73-86c3-6f844ff6ad4d"
      },
      "execution_count": null,
      "outputs": [
        {
          "output_type": "stream",
          "name": "stdout",
          "text": [
            "3\n"
          ]
        }
      ]
    },
    {
      "cell_type": "code",
      "source": [
        "def deep_flatten(lst):\n",
        "    result = []\n",
        "    for item in lst:\n",
        "        if isinstance(item, list):\n",
        "            result.extend(deep_flatten(item))\n",
        "        else:\n",
        "            result.append(item)\n",
        "    return result\n",
        "\n",
        "print(deep_flatten([[[1, 2], [3, 4]], [[5, 6], [7, 8]]]))"
      ],
      "metadata": {
        "colab": {
          "base_uri": "https://localhost:8080/"
        },
        "id": "k8u7lThXt3_F",
        "outputId": "42a179c1-5af9-4990-c2e2-4b1093310dc7"
      },
      "execution_count": null,
      "outputs": [
        {
          "output_type": "stream",
          "name": "stdout",
          "text": [
            "[1, 2, 3, 4, 5, 6, 7, 8]\n"
          ]
        }
      ]
    },
    {
      "cell_type": "code",
      "source": [
        "def average_nested(lst):\n",
        "    total, count = 0, 0\n",
        "    def helper(lst):\n",
        "        nonlocal total, count\n",
        "        for item in lst:\n",
        "            if isinstance(item, list):\n",
        "                helper(item)\n",
        "            else:\n",
        "                total += item\n",
        "                count += 1\n",
        "    helper(lst)\n",
        "    return total / count if count > 0 else 0\n",
        "\n",
        "print(average_nested([[1, 2], [3, 4], [5, 6]]))"
      ],
      "metadata": {
        "colab": {
          "base_uri": "https://localhost:8080/"
        },
        "id": "nU_YJvPst56r",
        "outputId": "784e94ab-6e46-420c-fa7b-9492e03bf29f"
      },
      "execution_count": null,
      "outputs": [
        {
          "output_type": "stream",
          "name": "stdout",
          "text": [
            "3.5\n"
          ]
        }
      ]
    },
    {
      "cell_type": "code",
      "source": [
        "import numpy as np\n",
        "\n",
        "array1 = np.empty((2, 2))\n",
        "print(\"Empty array (2x2):\\n\", array1)\n",
        "\n",
        "array2 = np.ones((4, 2))\n",
        "print(\"\\nAll-one array (4x2):\\n\", array2)\n",
        "\n",
        "array3 = np.full((3, 3), 7)\n",
        "print(\"\\nArray filled with 7 (3x3):\\n\", array3)\n",
        "\n",
        "array4 = np.zeros_like(array2)\n",
        "print(\"\\nZeros array with same shape as array2:\\n\", array4)\n",
        "\n",
        "array5 = np.ones_like(array2)\n",
        "print(\"\\nOnes array with same shape as array2:\\n\", array5)\n",
        "\n",
        "new_list = [1, 2, 3, 4]\n",
        "array6 = np.array(new_list)\n",
        "print(\"\\nConverted list to array:\", array6)"
      ],
      "metadata": {
        "colab": {
          "base_uri": "https://localhost:8080/"
        },
        "id": "FYJYFD-st9yh",
        "outputId": "bf96e6d5-603f-4fc7-f358-338957f1870d"
      },
      "execution_count": null,
      "outputs": [
        {
          "output_type": "stream",
          "name": "stdout",
          "text": [
            "Empty array (2x2):\n",
            " [[ 2.39926054e-316  0.00000000e+000]\n",
            " [ 4.96661664e-317 -1.70101448e+260]]\n",
            "\n",
            "All-one array (4x2):\n",
            " [[1. 1.]\n",
            " [1. 1.]\n",
            " [1. 1.]\n",
            " [1. 1.]]\n",
            "\n",
            "Array filled with 7 (3x3):\n",
            " [[7 7 7]\n",
            " [7 7 7]\n",
            " [7 7 7]]\n",
            "\n",
            "Zeros array with same shape as array2:\n",
            " [[0. 0.]\n",
            " [0. 0.]\n",
            " [0. 0.]\n",
            " [0. 0.]]\n",
            "\n",
            "Ones array with same shape as array2:\n",
            " [[1. 1.]\n",
            " [1. 1.]\n",
            " [1. 1.]\n",
            " [1. 1.]]\n",
            "\n",
            "Converted list to array: [1 2 3 4]\n"
          ]
        }
      ]
    },
    {
      "cell_type": "code",
      "source": [
        "array7 = np.arange(10, 50)\n",
        "print(\"\\nArray from 10 to 49:\\n\", array7)\n",
        "\n",
        "array8 = np.arange(9).reshape(3, 3)\n",
        "print(\"\\n3x3 matrix from 0 to 8:\\n\", array8)\n",
        "\n",
        "identity_matrix = np.eye(3)\n",
        "print(\"\\nIdentity matrix (3x3):\\n\", identity_matrix)\n",
        "\n",
        "random_array = np.random.random(30)\n",
        "mean_value = random_array.mean()\n",
        "print(\"\\nRandom array mean:\", mean_value)\n",
        "\n",
        "random_10x10 = np.random.random((10, 10))\n",
        "min_value = random_10x10.min()\n",
        "max_value = random_10x10.max()\n",
        "print(\"\\nMin value:\", min_value, \"Max value:\", max_value)\n",
        "\n",
        "array9 = np.zeros(10)\n",
        "array9[4] = 1\n",
        "print(\"\\nZero array with 5th element replaced by 1:\\n\", array9)\n",
        "\n",
        "arr = [1, 2, 0, 0, 4, 0]\n",
        "reversed_arr = np.flip(arr)\n",
        "print(\"\\nReversed array:\", reversed_arr)\n",
        "\n",
        "array10 = np.ones((5, 5))\n",
        "array10[1:-1, 1:-1] = 0\n",
        "print(\"\\n2D array with 1 on border and 0 inside:\\n\", array10)\n",
        "\n",
        "checkerboard = np.zeros((8, 8))\n",
        "checkerboard[1::2, ::2] = 1\n",
        "checkerboard[::2, 1::2] = 1\n",
        "print(\"\\nCheckerboard pattern (8x8):\\n\", checkerboard)"
      ],
      "metadata": {
        "colab": {
          "base_uri": "https://localhost:8080/"
        },
        "id": "-6ud2JSxuFcX",
        "outputId": "ff8e8657-b14c-46f2-aec7-2a9d8cf57a31"
      },
      "execution_count": null,
      "outputs": [
        {
          "output_type": "stream",
          "name": "stdout",
          "text": [
            "\n",
            "Array from 10 to 49:\n",
            " [10 11 12 13 14 15 16 17 18 19 20 21 22 23 24 25 26 27 28 29 30 31 32 33\n",
            " 34 35 36 37 38 39 40 41 42 43 44 45 46 47 48 49]\n",
            "\n",
            "3x3 matrix from 0 to 8:\n",
            " [[0 1 2]\n",
            " [3 4 5]\n",
            " [6 7 8]]\n",
            "\n",
            "Identity matrix (3x3):\n",
            " [[1. 0. 0.]\n",
            " [0. 1. 0.]\n",
            " [0. 0. 1.]]\n",
            "\n",
            "Random array mean: 0.4400243657453023\n",
            "\n",
            "Min value: 0.00490820631723321 Max value: 0.994099247212987\n",
            "\n",
            "Zero array with 5th element replaced by 1:\n",
            " [0. 0. 0. 0. 1. 0. 0. 0. 0. 0.]\n",
            "\n",
            "Reversed array: [0 4 0 0 2 1]\n",
            "\n",
            "2D array with 1 on border and 0 inside:\n",
            " [[1. 1. 1. 1. 1.]\n",
            " [1. 0. 0. 0. 1.]\n",
            " [1. 0. 0. 0. 1.]\n",
            " [1. 0. 0. 0. 1.]\n",
            " [1. 1. 1. 1. 1.]]\n",
            "\n",
            "Checkerboard pattern (8x8):\n",
            " [[0. 1. 0. 1. 0. 1. 0. 1.]\n",
            " [1. 0. 1. 0. 1. 0. 1. 0.]\n",
            " [0. 1. 0. 1. 0. 1. 0. 1.]\n",
            " [1. 0. 1. 0. 1. 0. 1. 0.]\n",
            " [0. 1. 0. 1. 0. 1. 0. 1.]\n",
            " [1. 0. 1. 0. 1. 0. 1. 0.]\n",
            " [0. 1. 0. 1. 0. 1. 0. 1.]\n",
            " [1. 0. 1. 0. 1. 0. 1. 0.]]\n"
          ]
        }
      ]
    },
    {
      "cell_type": "code",
      "source": [
        "# Arrays for operations\n",
        "x = np.array([[1, 2], [3, 5]])\n",
        "y = np.array([[5, 6], [7, 8]])\n",
        "v = np.array([9, 10])\n",
        "w = np.array([11, 12])\n",
        "\n",
        "add_result = x + y\n",
        "print(\"\\nAddition of x and y:\\n\", add_result)\n",
        "\n",
        "subtract_result = x - y\n",
        "print(\"\\nSubtraction of x and y:\\n\", subtract_result)\n",
        "\n",
        "multiply_result = x * 2\n",
        "print(\"\\nMultiplication of x by 2:\\n\", multiply_result)\n",
        "\n",
        "square_result = np.square(x)\n",
        "print(\"\\nSquare of each element in x:\\n\", square_result)\n",
        "\n",
        "dot_vw = np.dot(v, w)\n",
        "dot_xv = np.dot(x, v)\n",
        "dot_xy = np.dot(x, y)\n",
        "print(\"\\nDot product v . w:\", dot_vw)\n",
        "print(\"Dot product x . v:\\n\", dot_xv)\n",
        "print(\"Dot product x . y:\\n\", dot_xy)\n",
        "\n",
        "concat_xy_row = np.concatenate((x, y), axis=1)\n",
        "print(\"\\nConcatenation of x and y along row:\\n\", concat_xy_row)\n",
        "\n",
        "concat_vw_col = np.vstack((v, w))\n",
        "print(\"\\nConcatenation of v and w along column:\\n\", concat_vw_col)\n",
        "\n",
        "try:\n",
        "    concat_xv = np.concatenate((x, v), axis=1)\n",
        "except Exception as e:\n",
        "    print(\"\\nError during concatenation of x and v:\", e)"
      ],
      "metadata": {
        "colab": {
          "base_uri": "https://localhost:8080/"
        },
        "id": "ynQHxnU1uM3z",
        "outputId": "e797d2d8-a2cc-440e-a5c4-87326c452856"
      },
      "execution_count": null,
      "outputs": [
        {
          "output_type": "stream",
          "name": "stdout",
          "text": [
            "\n",
            "Addition of x and y:\n",
            " [[ 6  8]\n",
            " [10 13]]\n",
            "\n",
            "Subtraction of x and y:\n",
            " [[-4 -4]\n",
            " [-4 -3]]\n",
            "\n",
            "Multiplication of x by 2:\n",
            " [[ 2  4]\n",
            " [ 6 10]]\n",
            "\n",
            "Square of each element in x:\n",
            " [[ 1  4]\n",
            " [ 9 25]]\n",
            "\n",
            "Dot product v . w: 219\n",
            "Dot product x . v:\n",
            " [29 77]\n",
            "Dot product x . y:\n",
            " [[19 22]\n",
            " [50 58]]\n",
            "\n",
            "Concatenation of x and y along row:\n",
            " [[1 2 5 6]\n",
            " [3 5 7 8]]\n",
            "\n",
            "Concatenation of v and w along column:\n",
            " [[ 9 10]\n",
            " [11 12]]\n",
            "\n",
            "Error during concatenation of x and v: all the input arrays must have same number of dimensions, but the array at index 0 has 2 dimension(s) and the array at index 1 has 1 dimension(s)\n"
          ]
        }
      ]
    },
    {
      "cell_type": "code",
      "source": [
        "A = np.array([[3, 4], [7, 8]])\n",
        "B = np.array([[5, 3], [2, 1]])\n",
        "\n",
        "A_inv = np.linalg.inv(A)\n",
        "identity_matrix = np.dot(A, A_inv)\n",
        "print(\"\\nA * A^-1 (should be identity matrix):\\n\", identity_matrix)\n",
        "\n",
        "#AB != BA\n",
        "AB = np.dot(A, B)\n",
        "BA = np.dot(B, A)\n",
        "print(\"\\nAB:\\n\", AB)\n",
        "print(\"BA:\\n\", BA)\n",
        "\n",
        "# (AB)^T = B^T * A^T\n",
        "AB_transpose = np.transpose(AB)\n",
        "BT_AT = np.dot(np.transpose(B), np.transpose(A))\n",
        "print(\"\\nTranspose of AB:\\n\", AB_transpose)\n",
        "print(\"B^T * A^T:\\n\", BT_AT)\n",
        "\n",
        "#linear equations\n",
        "coeff_matrix = np.array([[2, -3, 1], [1, -1, 2], [3, 1, -1]])\n",
        "const_matrix = np.array([-1, -3, 9])\n",
        "\n",
        "\n",
        "solution = np.linalg.solve(coeff_matrix, const_matrix)\n",
        "print(\"\\nSoln to the system of equations (x, y, z):\", solution)"
      ],
      "metadata": {
        "colab": {
          "base_uri": "https://localhost:8080/"
        },
        "id": "46mfW-RruTVz",
        "outputId": "30134b9d-e8ba-4475-82cb-be1c4dd82ddf"
      },
      "execution_count": null,
      "outputs": [
        {
          "output_type": "stream",
          "name": "stdout",
          "text": [
            "\n",
            "A * A^-1 (should be identity matrix):\n",
            " [[1.00000000e+00 0.00000000e+00]\n",
            " [1.77635684e-15 1.00000000e+00]]\n",
            "\n",
            "AB:\n",
            " [[23 13]\n",
            " [51 29]]\n",
            "BA:\n",
            " [[36 44]\n",
            " [13 16]]\n",
            "\n",
            "Transpose of AB:\n",
            " [[23 51]\n",
            " [13 29]]\n",
            "B^T * A^T:\n",
            " [[23 51]\n",
            " [13 29]]\n",
            "\n",
            "Soln to the system of equations (x, y, z): [ 2.  1. -2.]\n"
          ]
        }
      ]
    },
    {
      "cell_type": "code",
      "source": [
        "import time\n",
        "\n",
        "list1 = [i for i in range(1000000)]\n",
        "list2 = [i for i in range(1000000)]\n",
        "\n",
        "start_time = time.time()\n",
        "result_list = [list1[i] + list2[i] for i in range(1000000)]\n",
        "end_time = time.time()\n",
        "\n",
        "print(f\"Time taken for element-wise addition using Python lists: {end_time - start_time} seconds\")"
      ],
      "metadata": {
        "colab": {
          "base_uri": "https://localhost:8080/"
        },
        "id": "siBnLavsuYzx",
        "outputId": "f546d136-47bc-43e2-e309-12efffcc4189"
      },
      "execution_count": null,
      "outputs": [
        {
          "output_type": "stream",
          "name": "stdout",
          "text": [
            "Time taken for element-wise addition using Python lists: 0.19258427619934082 seconds\n"
          ]
        }
      ]
    },
    {
      "cell_type": "code",
      "source": [
        "import numpy as np\n",
        "\n",
        "arr1 = np.arange(1000000)\n",
        "arr2 = np.arange(1000000)\n",
        "\n",
        "start_time = time.time()\n",
        "result_arr = arr1 + arr2\n",
        "end_time = time.time()\n",
        "\n",
        "print(f\"Time taken for element-wise addition using NumPy arrays: {end_time - start_time} seconds\")"
      ],
      "metadata": {
        "colab": {
          "base_uri": "https://localhost:8080/"
        },
        "id": "9CpsPGI8ubxl",
        "outputId": "5bbb26e9-8bba-4512-8d88-be9d08104b1f"
      },
      "execution_count": null,
      "outputs": [
        {
          "output_type": "stream",
          "name": "stdout",
          "text": [
            "Time taken for element-wise addition using NumPy arrays: 0.009543180465698242 seconds\n"
          ]
        }
      ]
    },
    {
      "cell_type": "code",
      "source": [
        "start_time = time.time()\n",
        "result_mult_list = [list1[i] * list2[i] for i in range(1000000)]\n",
        "end_time = time.time()\n",
        "\n",
        "print(f\"Time taken for element-wise multiplication using Python lists: {end_time - start_time} seconds\")"
      ],
      "metadata": {
        "colab": {
          "base_uri": "https://localhost:8080/"
        },
        "id": "oA91UPzAuc0r",
        "outputId": "aaf724de-ed48-47c8-aa12-611cbd924028"
      },
      "execution_count": null,
      "outputs": [
        {
          "output_type": "stream",
          "name": "stdout",
          "text": [
            "Time taken for element-wise multiplication using Python lists: 0.11672401428222656 seconds\n"
          ]
        }
      ]
    },
    {
      "cell_type": "code",
      "source": [
        "start_time = time.time()\n",
        "result_mult_arr = arr1 * arr2\n",
        "end_time = time.time()\n",
        "\n",
        "print(f\"Time taken for element-wise multiplication using NumPy arrays: {end_time - start_time} seconds\")"
      ],
      "metadata": {
        "colab": {
          "base_uri": "https://localhost:8080/"
        },
        "id": "L0RsBbQ7ugoJ",
        "outputId": "011fef9c-781b-4df6-95c6-7ade46533540"
      },
      "execution_count": null,
      "outputs": [
        {
          "output_type": "stream",
          "name": "stdout",
          "text": [
            "Time taken for element-wise multiplication using NumPy arrays: 0.008559465408325195 seconds\n"
          ]
        }
      ]
    },
    {
      "cell_type": "code",
      "source": [
        "start_time = time.time()\n",
        "dot_product_list = sum([list1[i] * list2[i] for i in range(1000000)])\n",
        "end_time = time.time()\n",
        "\n",
        "print(f\"Time taken for dot product using Python lists: {end_time - start_time} seconds\")"
      ],
      "metadata": {
        "colab": {
          "base_uri": "https://localhost:8080/"
        },
        "id": "JMXjLzQFui61",
        "outputId": "6261988f-7b7b-4a76-861e-b26591d29acf"
      },
      "execution_count": null,
      "outputs": [
        {
          "output_type": "stream",
          "name": "stdout",
          "text": [
            "Time taken for dot product using Python lists: 0.1844940185546875 seconds\n"
          ]
        }
      ]
    },
    {
      "cell_type": "code",
      "source": [
        "start_time = time.time()\n",
        "dot_product_arr = np.dot(arr1, arr2)\n",
        "end_time = time.time()\n",
        "\n",
        "print(f\"Time taken for dot product using NumPy arrays: {end_time - start_time} seconds\")\n"
      ],
      "metadata": {
        "colab": {
          "base_uri": "https://localhost:8080/"
        },
        "id": "raoyDHNdunsN",
        "outputId": "96937ccb-aeb9-4ad7-cb89-6a993ba3f8c7"
      },
      "execution_count": null,
      "outputs": [
        {
          "output_type": "stream",
          "name": "stdout",
          "text": [
            "Time taken for dot product using NumPy arrays: 0.004972219467163086 seconds\n"
          ]
        }
      ]
    },
    {
      "cell_type": "code",
      "source": [
        "import time\n",
        "matrix1 = [[i + j for j in range(1000)] for i in range(1000)]\n",
        "matrix2 = [[i - j for j in range(1000)] for i in range(1000)]\n",
        "\n",
        "start_time = time.time()\n",
        "result_matrix_list = [\n",
        "    [sum(matrix1[i][k] * matrix2[k][j] for k in range(1000)) for j in range(1000)]\n",
        "    for i in range(1000)\n",
        "]\n",
        "end_time = time.time()\n",
        "\n",
        "print(f\"Time taken for matrix multiplication using Python lists: {end_time - start_time} seconds\")"
      ],
      "metadata": {
        "colab": {
          "base_uri": "https://localhost:8080/"
        },
        "id": "zFojRZOhurGk",
        "outputId": "2f5e6fd2-49f6-480c-fab7-f50db1827eac"
      },
      "execution_count": 12,
      "outputs": [
        {
          "output_type": "stream",
          "name": "stdout",
          "text": [
            "Time taken for matrix multiplication using Python lists: 203.9166567325592 seconds\n"
          ]
        }
      ]
    },
    {
      "cell_type": "code",
      "source": [
        "import time\n",
        "import numpy as np\n",
        "matrix1_arr = np.random.rand(1000, 1000)\n",
        "matrix2_arr = np.random.rand(1000, 1000)\n",
        "\n",
        "start_time = time.time()\n",
        "result_matrix_arr = np.dot(matrix1_arr, matrix2_arr)\n",
        "end_time = time.time()\n",
        "\n",
        "print(f\"Time taken for matrix multiplication using NumPy arrays: {end_time - start_time} seconds\")"
      ],
      "metadata": {
        "colab": {
          "base_uri": "https://localhost:8080/"
        },
        "id": "Gu1zS9T1vJeu",
        "outputId": "c67ce9e7-4d64-4b0e-cc52-1c5926bc5739"
      },
      "execution_count": 16,
      "outputs": [
        {
          "output_type": "stream",
          "name": "stdout",
          "text": [
            "Time taken for matrix multiplication using NumPy arrays: 0.06636166572570801 seconds\n"
          ]
        }
      ]
    }
  ]
}